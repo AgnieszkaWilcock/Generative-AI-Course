{
 "cells": [
  {
   "cell_type": "markdown",
   "metadata": {},
   "source": [
    "# Introduction to Generative AI"
   ]
  },
  {
   "cell_type": "markdown",
   "metadata": {},
   "source": [
    "Generative AI seems to have arrived suddenly but in fact it has a long gestation.  Here are a few moments of history.\n",
    "\n",
    "* 1956, Artificial Intelligence (AI), ambition to create intelligent machines at the [Dartmouth Workshop](https://en.wikipedia.org/wiki/Dartmouth_workshop)\n",
    "* 1997, Machine Learning (ML), _statistical_ learning from **data and predictions.**\n",
    "* 2017, Deep Learning, a ML technique inspired by the wiring in our brains.  \"Neurons\" are connected into layers and the weights of the connections between neurons can be adjusted so that the neural net (NN) can \"learn\".\n",
    "* 2021, Generative AI, create new content, which could be text, audio or video, given a prompt.  An extension of NNs using the transformer architecture.\n"
   ]
  },
  {
   "cell_type": "markdown",
   "metadata": {},
   "source": [
    "For example, here is the _next_ stuff\n",
    "\n",
    "* bp 1\n",
    "* bp 2\n",
    "\n"
   ]
  }
 ],
 "metadata": {
  "language_info": {
   "name": "python"
  }
 },
 "nbformat": 4,
 "nbformat_minor": 2
}
