{
 "cells": [
  {
   "cell_type": "markdown",
   "metadata": {},
   "source": [
    "# Introduction to Generative AI"
   ]
  },
  {
   "cell_type": "markdown",
   "metadata": {},
   "source": [
    "Generative AI seems to have arrived suddenly but in fact it has a long gestation.  Here are a few moments of history.\n",
    "\n",
    "* 1956, Artificial Intelligence (AI), ambition to create intelligent machines at the [Dartmouth Workshop](https://en.wikipedia.org/wiki/Dartmouth_workshop)\n",
    "* 1997, Machine Learning (ML), _statistical_ learning from **data and predictions.**\n",
    "* 2017, Deep Learning, a ML technique inspired by the wiring in our brains.  \"Neurons\" are connected into layers and the weights of the connections between neurons can be adjusted so that the neural net (NN) can \"learn\".\n",
    "* 2021, Generative AI, create new content, which could be text, audio or video, given a prompt.  An extension of NNs using the transformer architecture.\n"
   ]
  },
  {
   "cell_type": "markdown",
   "metadata": {},
   "source": [
    "## Large Language Models (LLMs)"
   ]
  },
  {
   "cell_type": "markdown",
   "metadata": {},
   "source": [
    "A large language model is a type of AI program designed to understand, generate, and interact with human language. It's trained on vast amounts of text data.  It repatedly predicts the next word in a sentence to build a response to a prompt.  It can answer questions, write essays, and create code. \n",
    "Here are a couple of useful terms\n",
    "* *prompt*  - input to the LLM, usuual a sentecnce or paragraph\n",
    "* *completion* - the output (or response) from the LLM  "
   ]
  },
  {
   "cell_type": "markdown",
   "metadata": {},
   "source": [
    "## Tokenization - converting words into numbers\n",
    "\n",
    "Although the prompt and response are both text, under the covers, LLMs work with numbers.  \n",
    "The tokenizer converts a prompt to a sequence (array) of numbers.  \n",
    "It splits the prompt into an array tokens.  Tokens are roughly equivant to a word or part of a word.  "
   ]
  },
  {
   "cell_type": "code",
   "execution_count": null,
   "metadata": {},
   "outputs": [],
   "source": []
  }
 ],
 "metadata": {
  "kernelspec": {
   "display_name": ".venv",
   "language": "python",
   "name": "python3"
  },
  "language_info": {
   "codemirror_mode": {
    "name": "ipython",
    "version": 3
   },
   "file_extension": ".py",
   "mimetype": "text/x-python",
   "name": "python",
   "nbconvert_exporter": "python",
   "pygments_lexer": "ipython3",
   "version": "3.11.2"
  }
 },
 "nbformat": 4,
 "nbformat_minor": 2
}
