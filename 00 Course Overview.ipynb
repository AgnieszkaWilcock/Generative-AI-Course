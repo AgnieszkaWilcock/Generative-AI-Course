{
 "cells": [
  {
   "cell_type": "markdown",
   "metadata": {},
   "source": [
    "# Generative AI Course\n",
    "\n",
    "This course is under active development (as of Feb 2024).  The objective of the course is to give an appreciation of how generative AI, especially large language models (LLMs) like ChatGPT works, and how to use LLMs effectively."
   ]
  }
 ],
 "metadata": {
  "language_info": {
   "name": "python"
  }
 },
 "nbformat": 4,
 "nbformat_minor": 2
}
